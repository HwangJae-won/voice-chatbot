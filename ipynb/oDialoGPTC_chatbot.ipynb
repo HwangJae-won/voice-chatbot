{
  "nbformat": 4,
  "nbformat_minor": 0,
  "metadata": {
    "colab": {
      "name": "KoDialoGPTC_chatbot.ipynb",
      "provenance": [],
      "authorship_tag": "ABX9TyPUT7zQM7StNzqBCxVppoY9",
      "include_colab_link": true
    },
    "kernelspec": {
      "name": "python3",
      "display_name": "Python 3"
    },
    "language_info": {
      "name": "python"
    }
  },
  "cells": [
    {
      "cell_type": "markdown",
      "metadata": {
        "id": "view-in-github",
        "colab_type": "text"
      },
      "source": [
        "<a href=\"https://colab.research.google.com/github/HwangJae-won/voice-chatbot/blob/main/KoDialoGPTC_chatbot.ipynb\" target=\"_parent\"><img src=\"https://colab.research.google.com/assets/colab-badge.svg\" alt=\"Open In Colab\"/></a>"
      ]
    },
    {
      "cell_type": "code",
      "source": [
        "from transformers import PreTrainedTokenizerFast, GPT2LMHeadModel\n",
        "import torch"
      ],
      "metadata": {
        "id": "s4SkHwSgNSd5"
      },
      "execution_count": null,
      "outputs": []
    },
    {
      "cell_type": "code",
      "execution_count": null,
      "metadata": {
        "id": "EnOKFPPtNOwr"
      },
      "outputs": [],
      "source": [
        "\n",
        "device = 'cuda' if torch.cuda.is_available() else 'cpu'\n",
        "tokenizer = PreTrainedTokenizerFast.from_pretrained('byeongal/Ko-DialoGPT')\n",
        "model = GPT2LMHeadModel.from_pretrained('byeongal/Ko-DialoGPT').to(device)\n",
        "\n",
        "past_user_inputs = []\n",
        "generated_responses = []\n",
        "\n",
        "while True:\n",
        "    user_input = input(\">> User:\")\n",
        "    if user_input == 'bye':\n",
        "        break\n",
        "    text_idx = tokenizer.encode(user_input + tokenizer.eos_token, return_tensors='pt')\n",
        "    for i in range(len(generated_responses)-1, len(generated_responses)-3, -1):\n",
        "        if i < 0:\n",
        "            break\n",
        "        encoded_vector = tokenizer.encode(generated_responses[i] + tokenizer.eos_token, return_tensors='pt')\n",
        "        if text_idx.shape[-1] + encoded_vector.shape[-1] < 1000:\n",
        "            text_idx = torch.cat([encoded_vector, text_idx], dim=-1)\n",
        "        else:\n",
        "            break\n",
        "        encoded_vector = tokenizer.encode(past_user_inputs[i] + tokenizer.eos_token, return_tensors='pt')\n",
        "        if text_idx.shape[-1] + encoded_vector.shape[-1] < 1000:\n",
        "            text_idx = torch.cat([encoded_vector, text_idx], dim=-1)\n",
        "        else:\n",
        "            break\n",
        "    text_idx = text_idx.to(device)\n",
        "    inference_output = model.generate(\n",
        "            text_idx,\n",
        "            max_length=1000,\n",
        "            num_beams=5,\n",
        "            top_k=20,\n",
        "            no_repeat_ngram_size=4,\n",
        "            length_penalty=0.65,\n",
        "            repetition_penalty=2.0,\n",
        "        )\n",
        "    inference_output = inference_output.tolist()\n",
        "    bot_response = tokenizer.decode(inference_output[0][text_idx.shape[-1]:], skip_special_tokens=True)\n",
        "    print(f\"Bot: {bot_response}\")\n",
        "    past_user_inputs.append(user_input)\n",
        "    generated_responses.append(bot_response)"
      ]
    },
    {
      "cell_type": "code",
      "source": [
        ""
      ],
      "metadata": {
        "id": "I6Qh40QeNQi9"
      },
      "execution_count": null,
      "outputs": []
    }
  ]
}
